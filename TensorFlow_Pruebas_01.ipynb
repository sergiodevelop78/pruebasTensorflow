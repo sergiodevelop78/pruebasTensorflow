{
  "nbformat": 4,
  "nbformat_minor": 0,
  "metadata": {
    "colab": {
      "name": "TensorFlow - Pruebas 01.ipynb",
      "provenance": [],
      "mount_file_id": "1GnUMyOVgLaIP7WfTius0x1yzGBHiv-Gn",
      "authorship_tag": "ABX9TyN8DmjmpGPdy5vDIEXleTV3",
      "include_colab_link": true
    },
    "kernelspec": {
      "name": "python3",
      "display_name": "Python 3"
    },
    "accelerator": "GPU"
  },
  "cells": [
    {
      "cell_type": "markdown",
      "metadata": {
        "id": "view-in-github",
        "colab_type": "text"
      },
      "source": [
        "<a href=\"https://colab.research.google.com/github/sergiodevelop78/pruebasTensorflow/blob/master/TensorFlow_Pruebas_01.ipynb\" target=\"_parent\"><img src=\"https://colab.research.google.com/assets/colab-badge.svg\" alt=\"Open In Colab\"/></a>"
      ]
    },
    {
      "cell_type": "code",
      "metadata": {
        "id": "evJoHa395XeE",
        "colab_type": "code",
        "colab": {}
      },
      "source": [
        "!unzip /content/drive/My\\ Drive/models.zip -d /content/"
      ],
      "execution_count": 0,
      "outputs": []
    },
    {
      "cell_type": "code",
      "metadata": {
        "id": "hPESFyXB5WEB",
        "colab_type": "code",
        "colab": {}
      },
      "source": [
        "%tensorflow_version 1.x\n",
        "!pip install Cython\n",
        "!pip install contextlib2 pillow lxml matplotlib PyDrive\n",
        "!pip install pycocotools\n",
        "!apt install protobuf-compiler python-pil python-lxml python-tk\n"
      ],
      "execution_count": 0,
      "outputs": []
    },
    {
      "cell_type": "code",
      "metadata": {
        "id": "msGx92Qg59P9",
        "colab_type": "code",
        "colab": {
          "base_uri": "https://localhost:8080/",
          "height": 34
        },
        "outputId": "d2ad5210-0d23-4ee3-a65c-1a6c21b7cfc0"
      },
      "source": [
        "import tensorflow as tf\n",
        "device_name = tf.test.gpu_device_name()\n",
        "if device_name != '/device:GPU:0':\n",
        "  raise SystemError('GPU device not found')\n",
        "print('Found GPU at: {}'.format(device_name))"
      ],
      "execution_count": 4,
      "outputs": [
        {
          "output_type": "stream",
          "text": [
            "Found GPU at: /device:GPU:0\n"
          ],
          "name": "stdout"
        }
      ]
    },
    {
      "cell_type": "code",
      "metadata": {
        "id": "OAwhT0s76IAt",
        "colab_type": "code",
        "colab": {}
      },
      "source": [
        "#!git clone https://github.com/tensorflow/models.git \n",
        "%cd /content/models/research\n",
        "!protoc object_detection/protos/*.proto --python_out=.\n",
        "!export PYTHONPATH=$PYTHONPATH:`pwd`/slim\n",
        "!python object_detection/builders/model_builder_test.py\n",
        "\n",
        "%cd /content/models/research\n",
        "!protoc object_detection/protos/*.proto --python_out=.\n",
        "\n",
        "import os\n",
        "os.environ['PYTHONPATH']+=':/content/models/research/:/content/models/research/slim/'\n",
        "\n",
        "!python object_detection/builders/model_builder_test.py"
      ],
      "execution_count": 0,
      "outputs": []
    },
    {
      "cell_type": "code",
      "metadata": {
        "id": "8NQNnSGC6YR8",
        "colab_type": "code",
        "colab": {}
      },
      "source": [
        "!python3 object_detection/model_main.py --pipeline_config_path=ssd_mobilenet_v2_coco.config \\\n",
        "-num_train_steps=1000 --model_dir=train/ \\\n",
        " --alsologtostderr"
      ],
      "execution_count": 0,
      "outputs": []
    }
  ]
}